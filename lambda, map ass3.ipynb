{
 "cells": [
  {
   "cell_type": "code",
   "execution_count": 1,
   "id": "6e8cb09f",
   "metadata": {},
   "outputs": [
    {
     "name": "stdout",
     "output_type": "stream",
     "text": [
      "Enter a number: 10\n",
      "The result is 35\n"
     ]
    }
   ],
   "source": [
    "add_25 = lambda x: x + 25\n",
    "\n",
    "num = int(input(\"Enter a number: \"))\n",
    "result = add_25(num)\n",
    "\n",
    "print(f\"The result is {result}\")\n"
   ]
  },
  {
   "cell_type": "code",
   "execution_count": 2,
   "id": "41fd8c37",
   "metadata": {},
   "outputs": [
    {
     "name": "stdout",
     "output_type": "stream",
     "text": [
      "Triple of list numbers:\n",
      " [3, 6, 9, 12, 15, 18, 21]\n"
     ]
    }
   ],
   "source": [
    "lst = [1, 2, 3, 4, 5, 6, 7]\n",
    "\n",
    "triple = lambda x: x * 3\n",
    "\n",
    "result = list(map(triple, lst))\n",
    "\n",
    "print(\"Triple of list numbers:\\n\", result)\n"
   ]
  },
  {
   "cell_type": "code",
   "execution_count": 3,
   "id": "caa5abd8",
   "metadata": {},
   "outputs": [
    {
     "name": "stdout",
     "output_type": "stream",
     "text": [
      "Triple of list numbers:\n",
      " [16, 25, 4, 81]\n"
     ]
    }
   ],
   "source": [
    "lst = [4,5,2,9]\n",
    "\n",
    "saqure = lambda x: x ** 2\n",
    "\n",
    "result = list(map(saqure, lst))\n",
    "\n",
    "print(\"Triple of list numbers:\\n\", result)"
   ]
  },
  {
   "cell_type": "code",
   "execution_count": null,
   "id": "ba408d78",
   "metadata": {},
   "outputs": [],
   "source": []
  }
 ],
 "metadata": {
  "kernelspec": {
   "display_name": "Python 3 (ipykernel)",
   "language": "python",
   "name": "python3"
  },
  "language_info": {
   "codemirror_mode": {
    "name": "ipython",
    "version": 3
   },
   "file_extension": ".py",
   "mimetype": "text/x-python",
   "name": "python",
   "nbconvert_exporter": "python",
   "pygments_lexer": "ipython3",
   "version": "3.10.9"
  }
 },
 "nbformat": 4,
 "nbformat_minor": 5
}
